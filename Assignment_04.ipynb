{
 "cells": [
  {
   "cell_type": "code",
   "execution_count": 1,
   "id": "4db7c74e",
   "metadata": {},
   "outputs": [],
   "source": [
    "import pandas as pd\n",
    "import numpy as np"
   ]
  },
  {
   "cell_type": "code",
   "execution_count": 2,
   "id": "51a0a120",
   "metadata": {},
   "outputs": [],
   "source": [
    "df=pd.read_csv('weight-height.csv')"
   ]
  },
  {
   "cell_type": "code",
   "execution_count": 3,
   "id": "0a3fc494",
   "metadata": {},
   "outputs": [
    {
     "data": {
      "text/html": [
       "<div>\n",
       "<style scoped>\n",
       "    .dataframe tbody tr th:only-of-type {\n",
       "        vertical-align: middle;\n",
       "    }\n",
       "\n",
       "    .dataframe tbody tr th {\n",
       "        vertical-align: top;\n",
       "    }\n",
       "\n",
       "    .dataframe thead th {\n",
       "        text-align: right;\n",
       "    }\n",
       "</style>\n",
       "<table border=\"1\" class=\"dataframe\">\n",
       "  <thead>\n",
       "    <tr style=\"text-align: right;\">\n",
       "      <th></th>\n",
       "      <th>Height</th>\n",
       "      <th>Weight</th>\n",
       "    </tr>\n",
       "  </thead>\n",
       "  <tbody>\n",
       "    <tr>\n",
       "      <th>count</th>\n",
       "      <td>8555.000000</td>\n",
       "      <td>8555.000000</td>\n",
       "    </tr>\n",
       "    <tr>\n",
       "      <th>mean</th>\n",
       "      <td>66.809925</td>\n",
       "      <td>165.632735</td>\n",
       "    </tr>\n",
       "    <tr>\n",
       "      <th>std</th>\n",
       "      <td>3.851454</td>\n",
       "      <td>32.043922</td>\n",
       "    </tr>\n",
       "    <tr>\n",
       "      <th>min</th>\n",
       "      <td>54.616858</td>\n",
       "      <td>65.780000</td>\n",
       "    </tr>\n",
       "    <tr>\n",
       "      <th>25%</th>\n",
       "      <td>63.957684</td>\n",
       "      <td>139.876803</td>\n",
       "    </tr>\n",
       "    <tr>\n",
       "      <th>50%</th>\n",
       "      <td>66.985923</td>\n",
       "      <td>168.521567</td>\n",
       "    </tr>\n",
       "    <tr>\n",
       "      <th>75%</th>\n",
       "      <td>69.604427</td>\n",
       "      <td>190.666305</td>\n",
       "    </tr>\n",
       "    <tr>\n",
       "      <th>max</th>\n",
       "      <td>80.450000</td>\n",
       "      <td>269.989698</td>\n",
       "    </tr>\n",
       "  </tbody>\n",
       "</table>\n",
       "</div>"
      ],
      "text/plain": [
       "            Height       Weight\n",
       "count  8555.000000  8555.000000\n",
       "mean     66.809925   165.632735\n",
       "std       3.851454    32.043922\n",
       "min      54.616858    65.780000\n",
       "25%      63.957684   139.876803\n",
       "50%      66.985923   168.521567\n",
       "75%      69.604427   190.666305\n",
       "max      80.450000   269.989698"
      ]
     },
     "execution_count": 3,
     "metadata": {},
     "output_type": "execute_result"
    }
   ],
   "source": [
    "df.describe()"
   ]
  },
  {
   "cell_type": "code",
   "execution_count": 4,
   "id": "9f406a04",
   "metadata": {},
   "outputs": [
    {
     "data": {
      "text/html": [
       "<div>\n",
       "<style scoped>\n",
       "    .dataframe tbody tr th:only-of-type {\n",
       "        vertical-align: middle;\n",
       "    }\n",
       "\n",
       "    .dataframe tbody tr th {\n",
       "        vertical-align: top;\n",
       "    }\n",
       "\n",
       "    .dataframe thead th {\n",
       "        text-align: right;\n",
       "    }\n",
       "</style>\n",
       "<table border=\"1\" class=\"dataframe\">\n",
       "  <thead>\n",
       "    <tr style=\"text-align: right;\">\n",
       "      <th></th>\n",
       "      <th>Gender</th>\n",
       "      <th>Height</th>\n",
       "      <th>Weight</th>\n",
       "    </tr>\n",
       "  </thead>\n",
       "  <tbody>\n",
       "    <tr>\n",
       "      <th>0</th>\n",
       "      <td>Male</td>\n",
       "      <td>73.847017</td>\n",
       "      <td>241.893563</td>\n",
       "    </tr>\n",
       "    <tr>\n",
       "      <th>1</th>\n",
       "      <td>Male</td>\n",
       "      <td>68.781904</td>\n",
       "      <td>162.310473</td>\n",
       "    </tr>\n",
       "    <tr>\n",
       "      <th>2</th>\n",
       "      <td>Male</td>\n",
       "      <td>74.110105</td>\n",
       "      <td>212.740856</td>\n",
       "    </tr>\n",
       "    <tr>\n",
       "      <th>3</th>\n",
       "      <td>Male</td>\n",
       "      <td>71.730978</td>\n",
       "      <td>220.042470</td>\n",
       "    </tr>\n",
       "    <tr>\n",
       "      <th>4</th>\n",
       "      <td>Male</td>\n",
       "      <td>69.881796</td>\n",
       "      <td>206.349801</td>\n",
       "    </tr>\n",
       "  </tbody>\n",
       "</table>\n",
       "</div>"
      ],
      "text/plain": [
       "  Gender     Height      Weight\n",
       "0   Male  73.847017  241.893563\n",
       "1   Male  68.781904  162.310473\n",
       "2   Male  74.110105  212.740856\n",
       "3   Male  71.730978  220.042470\n",
       "4   Male  69.881796  206.349801"
      ]
     },
     "execution_count": 4,
     "metadata": {},
     "output_type": "execute_result"
    }
   ],
   "source": [
    "df.head()"
   ]
  },
  {
   "cell_type": "code",
   "execution_count": 5,
   "id": "1a03c88e",
   "metadata": {},
   "outputs": [
    {
     "data": {
      "text/plain": [
       "(8555, 3)"
      ]
     },
     "execution_count": 5,
     "metadata": {},
     "output_type": "execute_result"
    }
   ],
   "source": [
    "df.shape"
   ]
  },
  {
   "cell_type": "code",
   "execution_count": 6,
   "id": "de90c6ab",
   "metadata": {},
   "outputs": [
    {
     "data": {
      "text/plain": [
       "Male      5000\n",
       "Female    3555\n",
       "Name: Gender, dtype: int64"
      ]
     },
     "execution_count": 6,
     "metadata": {},
     "output_type": "execute_result"
    }
   ],
   "source": [
    "df.Gender.value_counts()"
   ]
  },
  {
   "cell_type": "markdown",
   "id": "3ddcce01",
   "metadata": {},
   "source": [
    "# One Hot Enocding of Gender"
   ]
  },
  {
   "cell_type": "code",
   "execution_count": 7,
   "id": "b8083acd",
   "metadata": {},
   "outputs": [
    {
     "data": {
      "text/html": [
       "<div>\n",
       "<style scoped>\n",
       "    .dataframe tbody tr th:only-of-type {\n",
       "        vertical-align: middle;\n",
       "    }\n",
       "\n",
       "    .dataframe tbody tr th {\n",
       "        vertical-align: top;\n",
       "    }\n",
       "\n",
       "    .dataframe thead th {\n",
       "        text-align: right;\n",
       "    }\n",
       "</style>\n",
       "<table border=\"1\" class=\"dataframe\">\n",
       "  <thead>\n",
       "    <tr style=\"text-align: right;\">\n",
       "      <th></th>\n",
       "      <th>Male</th>\n",
       "    </tr>\n",
       "  </thead>\n",
       "  <tbody>\n",
       "    <tr>\n",
       "      <th>0</th>\n",
       "      <td>1</td>\n",
       "    </tr>\n",
       "    <tr>\n",
       "      <th>1</th>\n",
       "      <td>1</td>\n",
       "    </tr>\n",
       "    <tr>\n",
       "      <th>2</th>\n",
       "      <td>1</td>\n",
       "    </tr>\n",
       "    <tr>\n",
       "      <th>3</th>\n",
       "      <td>1</td>\n",
       "    </tr>\n",
       "    <tr>\n",
       "      <th>4</th>\n",
       "      <td>1</td>\n",
       "    </tr>\n",
       "  </tbody>\n",
       "</table>\n",
       "</div>"
      ],
      "text/plain": [
       "   Male\n",
       "0     1\n",
       "1     1\n",
       "2     1\n",
       "3     1\n",
       "4     1"
      ]
     },
     "execution_count": 7,
     "metadata": {},
     "output_type": "execute_result"
    }
   ],
   "source": [
    "import numpy as np\n",
    "from sklearn.preprocessing import OneHotEncoder\n",
    "onehotencoder = OneHotEncoder()\n",
    "dummy=pd.get_dummies(df.Gender, drop_first=True)\n",
    "dummy.head()"
   ]
  },
  {
   "cell_type": "markdown",
   "id": "34b4131b",
   "metadata": {},
   "source": [
    "# Standard Scalar"
   ]
  },
  {
   "cell_type": "code",
   "execution_count": 8,
   "id": "de626afa",
   "metadata": {},
   "outputs": [],
   "source": [
    "from sklearn.preprocessing import StandardScaler\n",
    "std=StandardScaler()"
   ]
  },
  {
   "cell_type": "code",
   "execution_count": 9,
   "id": "06b70475",
   "metadata": {},
   "outputs": [],
   "source": [
    "y=df[\"Weight\"]"
   ]
  },
  {
   "cell_type": "code",
   "execution_count": 10,
   "id": "0773e458",
   "metadata": {},
   "outputs": [],
   "source": [
    "z=df.drop([\"Gender\", \"Weight\"], axis=1)"
   ]
  },
  {
   "cell_type": "code",
   "execution_count": 11,
   "id": "278bbe6e",
   "metadata": {},
   "outputs": [
    {
     "data": {
      "text/html": [
       "<div>\n",
       "<style scoped>\n",
       "    .dataframe tbody tr th:only-of-type {\n",
       "        vertical-align: middle;\n",
       "    }\n",
       "\n",
       "    .dataframe tbody tr th {\n",
       "        vertical-align: top;\n",
       "    }\n",
       "\n",
       "    .dataframe thead th {\n",
       "        text-align: right;\n",
       "    }\n",
       "</style>\n",
       "<table border=\"1\" class=\"dataframe\">\n",
       "  <thead>\n",
       "    <tr style=\"text-align: right;\">\n",
       "      <th></th>\n",
       "      <th>Height</th>\n",
       "    </tr>\n",
       "  </thead>\n",
       "  <tbody>\n",
       "    <tr>\n",
       "      <th>0</th>\n",
       "      <td>73.847017</td>\n",
       "    </tr>\n",
       "    <tr>\n",
       "      <th>1</th>\n",
       "      <td>68.781904</td>\n",
       "    </tr>\n",
       "    <tr>\n",
       "      <th>2</th>\n",
       "      <td>74.110105</td>\n",
       "    </tr>\n",
       "    <tr>\n",
       "      <th>3</th>\n",
       "      <td>71.730978</td>\n",
       "    </tr>\n",
       "    <tr>\n",
       "      <th>4</th>\n",
       "      <td>69.881796</td>\n",
       "    </tr>\n",
       "  </tbody>\n",
       "</table>\n",
       "</div>"
      ],
      "text/plain": [
       "      Height\n",
       "0  73.847017\n",
       "1  68.781904\n",
       "2  74.110105\n",
       "3  71.730978\n",
       "4  69.881796"
      ]
     },
     "execution_count": 11,
     "metadata": {},
     "output_type": "execute_result"
    }
   ],
   "source": [
    "z.head()"
   ]
  },
  {
   "cell_type": "code",
   "execution_count": 12,
   "id": "29b2d0fc",
   "metadata": {},
   "outputs": [],
   "source": [
    "z=std.fit_transform(z)"
   ]
  },
  {
   "cell_type": "code",
   "execution_count": 13,
   "id": "045437cb",
   "metadata": {},
   "outputs": [],
   "source": [
    "df_1=pd.DataFrame(z, columns=[\"Height\"])"
   ]
  },
  {
   "cell_type": "code",
   "execution_count": 14,
   "id": "2122787b",
   "metadata": {},
   "outputs": [
    {
     "data": {
      "text/html": [
       "<div>\n",
       "<style scoped>\n",
       "    .dataframe tbody tr th:only-of-type {\n",
       "        vertical-align: middle;\n",
       "    }\n",
       "\n",
       "    .dataframe tbody tr th {\n",
       "        vertical-align: top;\n",
       "    }\n",
       "\n",
       "    .dataframe thead th {\n",
       "        text-align: right;\n",
       "    }\n",
       "</style>\n",
       "<table border=\"1\" class=\"dataframe\">\n",
       "  <thead>\n",
       "    <tr style=\"text-align: right;\">\n",
       "      <th></th>\n",
       "      <th>Height</th>\n",
       "    </tr>\n",
       "  </thead>\n",
       "  <tbody>\n",
       "    <tr>\n",
       "      <th>0</th>\n",
       "      <td>1.827233</td>\n",
       "    </tr>\n",
       "    <tr>\n",
       "      <th>1</th>\n",
       "      <td>0.512039</td>\n",
       "    </tr>\n",
       "    <tr>\n",
       "      <th>2</th>\n",
       "      <td>1.895545</td>\n",
       "    </tr>\n",
       "    <tr>\n",
       "      <th>3</th>\n",
       "      <td>1.277788</td>\n",
       "    </tr>\n",
       "    <tr>\n",
       "      <th>4</th>\n",
       "      <td>0.797634</td>\n",
       "    </tr>\n",
       "  </tbody>\n",
       "</table>\n",
       "</div>"
      ],
      "text/plain": [
       "     Height\n",
       "0  1.827233\n",
       "1  0.512039\n",
       "2  1.895545\n",
       "3  1.277788\n",
       "4  0.797634"
      ]
     },
     "execution_count": 14,
     "metadata": {},
     "output_type": "execute_result"
    }
   ],
   "source": [
    "df_1.head()"
   ]
  },
  {
   "cell_type": "code",
   "execution_count": 15,
   "id": "010f56e1",
   "metadata": {},
   "outputs": [],
   "source": [
    "df=pd.concat([df_1, dummy], axis=1)"
   ]
  },
  {
   "cell_type": "code",
   "execution_count": 16,
   "id": "b3a7a4d9",
   "metadata": {},
   "outputs": [
    {
     "data": {
      "text/html": [
       "<div>\n",
       "<style scoped>\n",
       "    .dataframe tbody tr th:only-of-type {\n",
       "        vertical-align: middle;\n",
       "    }\n",
       "\n",
       "    .dataframe tbody tr th {\n",
       "        vertical-align: top;\n",
       "    }\n",
       "\n",
       "    .dataframe thead th {\n",
       "        text-align: right;\n",
       "    }\n",
       "</style>\n",
       "<table border=\"1\" class=\"dataframe\">\n",
       "  <thead>\n",
       "    <tr style=\"text-align: right;\">\n",
       "      <th></th>\n",
       "      <th>Height</th>\n",
       "      <th>Male</th>\n",
       "    </tr>\n",
       "  </thead>\n",
       "  <tbody>\n",
       "    <tr>\n",
       "      <th>0</th>\n",
       "      <td>1.827233</td>\n",
       "      <td>1</td>\n",
       "    </tr>\n",
       "    <tr>\n",
       "      <th>1</th>\n",
       "      <td>0.512039</td>\n",
       "      <td>1</td>\n",
       "    </tr>\n",
       "    <tr>\n",
       "      <th>2</th>\n",
       "      <td>1.895545</td>\n",
       "      <td>1</td>\n",
       "    </tr>\n",
       "    <tr>\n",
       "      <th>3</th>\n",
       "      <td>1.277788</td>\n",
       "      <td>1</td>\n",
       "    </tr>\n",
       "    <tr>\n",
       "      <th>4</th>\n",
       "      <td>0.797634</td>\n",
       "      <td>1</td>\n",
       "    </tr>\n",
       "  </tbody>\n",
       "</table>\n",
       "</div>"
      ],
      "text/plain": [
       "     Height  Male\n",
       "0  1.827233     1\n",
       "1  0.512039     1\n",
       "2  1.895545     1\n",
       "3  1.277788     1\n",
       "4  0.797634     1"
      ]
     },
     "execution_count": 16,
     "metadata": {},
     "output_type": "execute_result"
    }
   ],
   "source": [
    "df.head()"
   ]
  },
  {
   "cell_type": "code",
   "execution_count": 17,
   "id": "2dc33b37",
   "metadata": {},
   "outputs": [
    {
     "data": {
      "text/html": [
       "<div>\n",
       "<style scoped>\n",
       "    .dataframe tbody tr th:only-of-type {\n",
       "        vertical-align: middle;\n",
       "    }\n",
       "\n",
       "    .dataframe tbody tr th {\n",
       "        vertical-align: top;\n",
       "    }\n",
       "\n",
       "    .dataframe thead th {\n",
       "        text-align: right;\n",
       "    }\n",
       "</style>\n",
       "<table border=\"1\" class=\"dataframe\">\n",
       "  <thead>\n",
       "    <tr style=\"text-align: right;\">\n",
       "      <th></th>\n",
       "      <th>Height</th>\n",
       "      <th>Male</th>\n",
       "    </tr>\n",
       "  </thead>\n",
       "  <tbody>\n",
       "    <tr>\n",
       "      <th>count</th>\n",
       "      <td>8.555000e+03</td>\n",
       "      <td>8555.000000</td>\n",
       "    </tr>\n",
       "    <tr>\n",
       "      <th>mean</th>\n",
       "      <td>-1.132804e-15</td>\n",
       "      <td>0.584454</td>\n",
       "    </tr>\n",
       "    <tr>\n",
       "      <th>std</th>\n",
       "      <td>1.000058e+00</td>\n",
       "      <td>0.492845</td>\n",
       "    </tr>\n",
       "    <tr>\n",
       "      <th>min</th>\n",
       "      <td>-3.166020e+00</td>\n",
       "      <td>0.000000</td>\n",
       "    </tr>\n",
       "    <tr>\n",
       "      <th>25%</th>\n",
       "      <td>-7.406054e-01</td>\n",
       "      <td>0.000000</td>\n",
       "    </tr>\n",
       "    <tr>\n",
       "      <th>50%</th>\n",
       "      <td>4.569924e-02</td>\n",
       "      <td>1.000000</td>\n",
       "    </tr>\n",
       "    <tr>\n",
       "      <th>75%</th>\n",
       "      <td>7.256130e-01</td>\n",
       "      <td>1.000000</td>\n",
       "    </tr>\n",
       "    <tr>\n",
       "      <th>max</th>\n",
       "      <td>3.541746e+00</td>\n",
       "      <td>1.000000</td>\n",
       "    </tr>\n",
       "  </tbody>\n",
       "</table>\n",
       "</div>"
      ],
      "text/plain": [
       "             Height         Male\n",
       "count  8.555000e+03  8555.000000\n",
       "mean  -1.132804e-15     0.584454\n",
       "std    1.000058e+00     0.492845\n",
       "min   -3.166020e+00     0.000000\n",
       "25%   -7.406054e-01     0.000000\n",
       "50%    4.569924e-02     1.000000\n",
       "75%    7.256130e-01     1.000000\n",
       "max    3.541746e+00     1.000000"
      ]
     },
     "execution_count": 17,
     "metadata": {},
     "output_type": "execute_result"
    }
   ],
   "source": [
    "df.describe()"
   ]
  },
  {
   "cell_type": "code",
   "execution_count": 18,
   "id": "ca79d40d",
   "metadata": {},
   "outputs": [],
   "source": [
    "x=df"
   ]
  },
  {
   "cell_type": "code",
   "execution_count": 153,
   "id": "bc7fafa6",
   "metadata": {},
   "outputs": [
    {
     "data": {
      "text/html": [
       "<div>\n",
       "<style scoped>\n",
       "    .dataframe tbody tr th:only-of-type {\n",
       "        vertical-align: middle;\n",
       "    }\n",
       "\n",
       "    .dataframe tbody tr th {\n",
       "        vertical-align: top;\n",
       "    }\n",
       "\n",
       "    .dataframe thead th {\n",
       "        text-align: right;\n",
       "    }\n",
       "</style>\n",
       "<table border=\"1\" class=\"dataframe\">\n",
       "  <thead>\n",
       "    <tr style=\"text-align: right;\">\n",
       "      <th></th>\n",
       "      <th>Height</th>\n",
       "      <th>Male</th>\n",
       "    </tr>\n",
       "  </thead>\n",
       "  <tbody>\n",
       "    <tr>\n",
       "      <th>0</th>\n",
       "      <td>1.827233</td>\n",
       "      <td>1</td>\n",
       "    </tr>\n",
       "    <tr>\n",
       "      <th>1</th>\n",
       "      <td>0.512039</td>\n",
       "      <td>1</td>\n",
       "    </tr>\n",
       "    <tr>\n",
       "      <th>2</th>\n",
       "      <td>1.895545</td>\n",
       "      <td>1</td>\n",
       "    </tr>\n",
       "    <tr>\n",
       "      <th>3</th>\n",
       "      <td>1.277788</td>\n",
       "      <td>1</td>\n",
       "    </tr>\n",
       "    <tr>\n",
       "      <th>4</th>\n",
       "      <td>0.797634</td>\n",
       "      <td>1</td>\n",
       "    </tr>\n",
       "  </tbody>\n",
       "</table>\n",
       "</div>"
      ],
      "text/plain": [
       "     Height  Male\n",
       "0  1.827233     1\n",
       "1  0.512039     1\n",
       "2  1.895545     1\n",
       "3  1.277788     1\n",
       "4  0.797634     1"
      ]
     },
     "execution_count": 153,
     "metadata": {},
     "output_type": "execute_result"
    }
   ],
   "source": [
    "x.head()"
   ]
  },
  {
   "cell_type": "code",
   "execution_count": 19,
   "id": "59740f90",
   "metadata": {},
   "outputs": [
    {
     "data": {
      "text/plain": [
       "0    241.893563\n",
       "1    162.310473\n",
       "2    212.740856\n",
       "3    220.042470\n",
       "4    206.349801\n",
       "Name: Weight, dtype: float64"
      ]
     },
     "execution_count": 19,
     "metadata": {},
     "output_type": "execute_result"
    }
   ],
   "source": [
    "y.head()"
   ]
  },
  {
   "cell_type": "code",
   "execution_count": 20,
   "id": "3c8d426e",
   "metadata": {},
   "outputs": [
    {
     "data": {
      "text/plain": [
       "(8555,)"
      ]
     },
     "execution_count": 20,
     "metadata": {},
     "output_type": "execute_result"
    }
   ],
   "source": [
    "y.shape"
   ]
  },
  {
   "cell_type": "markdown",
   "id": "6bf4de62",
   "metadata": {},
   "source": [
    "# Train/Test Split"
   ]
  },
  {
   "cell_type": "code",
   "execution_count": 21,
   "id": "848ebca6",
   "metadata": {},
   "outputs": [],
   "source": [
    "from sklearn.model_selection import train_test_split as tts\n",
    "xtrain, xtest, ytrain, ytest=tts(x,y,test_size=0.3,random_state=102)"
   ]
  },
  {
   "cell_type": "code",
   "execution_count": 22,
   "id": "37ab11fd",
   "metadata": {},
   "outputs": [
    {
     "data": {
      "text/plain": [
       "(5988, 2)"
      ]
     },
     "execution_count": 22,
     "metadata": {},
     "output_type": "execute_result"
    }
   ],
   "source": [
    "xtrain.shape"
   ]
  },
  {
   "cell_type": "code",
   "execution_count": 23,
   "id": "caf2301f",
   "metadata": {},
   "outputs": [
    {
     "data": {
      "text/plain": [
       "(5988,)"
      ]
     },
     "execution_count": 23,
     "metadata": {},
     "output_type": "execute_result"
    }
   ],
   "source": [
    "ytrain.shape"
   ]
  },
  {
   "cell_type": "markdown",
   "id": "4f2cdba3",
   "metadata": {},
   "source": [
    "# Linear Regression"
   ]
  },
  {
   "cell_type": "code",
   "execution_count": 24,
   "id": "d94280d9",
   "metadata": {},
   "outputs": [],
   "source": [
    "from sklearn.linear_model import LinearRegression as LR\n",
    "reg=LR()"
   ]
  },
  {
   "cell_type": "code",
   "execution_count": 25,
   "id": "6e0ceb5c",
   "metadata": {},
   "outputs": [
    {
     "data": {
      "text/plain": [
       "LinearRegression()"
      ]
     },
     "execution_count": 25,
     "metadata": {},
     "output_type": "execute_result"
    }
   ],
   "source": [
    "reg.fit(xtrain, ytrain)"
   ]
  },
  {
   "cell_type": "code",
   "execution_count": 26,
   "id": "b1578f87",
   "metadata": {},
   "outputs": [
    {
     "data": {
      "text/plain": [
       "array([23.0273989 , 19.36816948])"
      ]
     },
     "execution_count": 26,
     "metadata": {},
     "output_type": "execute_result"
    }
   ],
   "source": [
    "reg.coef_"
   ]
  },
  {
   "cell_type": "code",
   "execution_count": 27,
   "id": "4894222c",
   "metadata": {},
   "outputs": [
    {
     "data": {
      "text/plain": [
       "154.40597364683094"
      ]
     },
     "execution_count": 27,
     "metadata": {},
     "output_type": "execute_result"
    }
   ],
   "source": [
    "reg.intercept_"
   ]
  },
  {
   "cell_type": "code",
   "execution_count": 28,
   "id": "6d1d8866",
   "metadata": {},
   "outputs": [],
   "source": [
    "ypred=reg.predict(xtest)"
   ]
  },
  {
   "cell_type": "code",
   "execution_count": 29,
   "id": "de79993d",
   "metadata": {},
   "outputs": [],
   "source": [
    "from sklearn.metrics import mean_squared_error as mse"
   ]
  },
  {
   "cell_type": "code",
   "execution_count": 30,
   "id": "6b282104",
   "metadata": {},
   "outputs": [
    {
     "data": {
      "text/plain": [
       "99.4022430570895"
      ]
     },
     "execution_count": 30,
     "metadata": {},
     "output_type": "execute_result"
    }
   ],
   "source": [
    "mse(ytest, ypred)"
   ]
  },
  {
   "cell_type": "code",
   "execution_count": 31,
   "id": "c5c544eb",
   "metadata": {},
   "outputs": [],
   "source": [
    "rmse=(mse(ytest, ypred))**(0.5)"
   ]
  },
  {
   "cell_type": "code",
   "execution_count": 32,
   "id": "4f7cb3fa",
   "metadata": {},
   "outputs": [
    {
     "data": {
      "text/plain": [
       "9.970067354691718"
      ]
     },
     "execution_count": 32,
     "metadata": {},
     "output_type": "execute_result"
    }
   ],
   "source": [
    "rmse"
   ]
  },
  {
   "cell_type": "code",
   "execution_count": 33,
   "id": "73172ade",
   "metadata": {},
   "outputs": [
    {
     "data": {
      "text/plain": [
       "0.9035587499789787"
      ]
     },
     "execution_count": 33,
     "metadata": {},
     "output_type": "execute_result"
    }
   ],
   "source": [
    "from sklearn.metrics import r2_score\n",
    "score=r2_score(ytest, ypred)\n",
    "score"
   ]
  },
  {
   "cell_type": "markdown",
   "id": "4047db87",
   "metadata": {},
   "source": [
    "# kNN Regression_default"
   ]
  },
  {
   "cell_type": "code",
   "execution_count": 74,
   "id": "1bb0b627",
   "metadata": {},
   "outputs": [],
   "source": [
    "from sklearn.neighbors import KNeighborsRegressor \n",
    "import matplotlib.pyplot as plt\n",
    "from sklearn import metrics\n",
    "\n",
    "import warnings\n",
    "\n",
    "warnings.filterwarnings('ignore')"
   ]
  },
  {
   "cell_type": "code",
   "execution_count": 75,
   "id": "6200af39",
   "metadata": {},
   "outputs": [],
   "source": [
    "knn=KNeighborsRegressor()"
   ]
  },
  {
   "cell_type": "code",
   "execution_count": 76,
   "id": "2a1f4e9b",
   "metadata": {},
   "outputs": [
    {
     "data": {
      "text/plain": [
       "KNeighborsRegressor()"
      ]
     },
     "execution_count": 76,
     "metadata": {},
     "output_type": "execute_result"
    }
   ],
   "source": [
    "knn.fit(xtrain, ytrain)"
   ]
  },
  {
   "cell_type": "code",
   "execution_count": 77,
   "id": "c801d28b",
   "metadata": {},
   "outputs": [],
   "source": [
    "ypred_knn=knn.predict(xtest)"
   ]
  },
  {
   "cell_type": "code",
   "execution_count": 78,
   "id": "efc9dc13",
   "metadata": {},
   "outputs": [
    {
     "data": {
      "text/plain": [
       "120.33095991615241"
      ]
     },
     "execution_count": 78,
     "metadata": {},
     "output_type": "execute_result"
    }
   ],
   "source": [
    "mse(ytest, ypred_knn)"
   ]
  },
  {
   "cell_type": "code",
   "execution_count": 79,
   "id": "2697e3ab",
   "metadata": {},
   "outputs": [],
   "source": [
    "rmse=(mse(ytest, ypred_knn))**(0.5)"
   ]
  },
  {
   "cell_type": "code",
   "execution_count": 80,
   "id": "a93a1e85",
   "metadata": {},
   "outputs": [
    {
     "data": {
      "text/plain": [
       "10.969546933039323"
      ]
     },
     "execution_count": 80,
     "metadata": {},
     "output_type": "execute_result"
    }
   ],
   "source": [
    "rmse"
   ]
  },
  {
   "cell_type": "code",
   "execution_count": 81,
   "id": "98f78d19",
   "metadata": {},
   "outputs": [
    {
     "data": {
      "text/plain": [
       "0.8832534575313542"
      ]
     },
     "execution_count": 81,
     "metadata": {},
     "output_type": "execute_result"
    }
   ],
   "source": [
    "knn.score(xtest,ytest)"
   ]
  },
  {
   "cell_type": "markdown",
   "id": "03733730",
   "metadata": {},
   "source": [
    "# Hyperparameter Tuning_knn_GridsearchCV"
   ]
  },
  {
   "cell_type": "code",
   "execution_count": 42,
   "id": "115e3299",
   "metadata": {},
   "outputs": [],
   "source": [
    "from sklearn.model_selection import GridSearchCV"
   ]
  },
  {
   "cell_type": "code",
   "execution_count": 69,
   "id": "12a9ab1e",
   "metadata": {},
   "outputs": [],
   "source": [
    "knn_params = [{'n_neighbors': list(range(1,500,5))}]"
   ]
  },
  {
   "cell_type": "code",
   "execution_count": 70,
   "id": "31905044",
   "metadata": {},
   "outputs": [],
   "source": [
    "regressor=GridSearchCV(knn, knn_params, scoring='neg_mean_squared_error', cv=10 )"
   ]
  },
  {
   "cell_type": "code",
   "execution_count": 71,
   "id": "c5bc861a",
   "metadata": {},
   "outputs": [
    {
     "data": {
      "text/plain": [
       "GridSearchCV(cv=10, estimator=KNeighborsRegressor(n_neighbors=999),\n",
       "             param_grid=[{'n_neighbors': [1, 6, 11, 16, 21, 26, 31, 36, 41, 46,\n",
       "                                          51, 56, 61, 66, 71, 76, 81, 86, 91,\n",
       "                                          96, 101, 106, 111, 116, 121, 126, 131,\n",
       "                                          136, 141, 146, ...]}],\n",
       "             scoring='neg_mean_squared_error')"
      ]
     },
     "execution_count": 71,
     "metadata": {},
     "output_type": "execute_result"
    }
   ],
   "source": [
    "regressor.fit(xtrain, ytrain)"
   ]
  },
  {
   "cell_type": "code",
   "execution_count": 72,
   "id": "12f3e47f",
   "metadata": {},
   "outputs": [
    {
     "data": {
      "text/plain": [
       "-107.05436981515709"
      ]
     },
     "execution_count": 72,
     "metadata": {},
     "output_type": "execute_result"
    }
   ],
   "source": [
    "regressor.best_score_"
   ]
  },
  {
   "cell_type": "code",
   "execution_count": 73,
   "id": "6782df62",
   "metadata": {},
   "outputs": [
    {
     "data": {
      "text/plain": [
       "KNeighborsRegressor(n_neighbors=81)"
      ]
     },
     "execution_count": 73,
     "metadata": {},
     "output_type": "execute_result"
    }
   ],
   "source": [
    "regressor.best_estimator_"
   ]
  },
  {
   "cell_type": "markdown",
   "id": "8ea6f300",
   "metadata": {},
   "source": [
    "# Hyperparameter Tuning_knn"
   ]
  },
  {
   "cell_type": "code",
   "execution_count": 55,
   "id": "89bca45c",
   "metadata": {},
   "outputs": [],
   "source": [
    "errors=[]\n",
    "for i in range(1,1000,1):\n",
    "    knn=knn=KNeighborsRegressor(n_neighbors=i)\n",
    "    knn.fit(xtrain, ytrain)\n",
    "    ypred_knn=knn.predict(xtest)\n",
    "    errors.append(np.mean((ypred_knn-ytest)))"
   ]
  },
  {
   "cell_type": "code",
   "execution_count": 56,
   "id": "f76685ae",
   "metadata": {},
   "outputs": [
    {
     "data": {
      "text/plain": [
       "[0.1892878892169851,\n",
       " 0.32125984855083717,\n",
       " 0.37090218668744557,\n",
       " 0.3596643783424242,\n",
       " 0.3403346399906518,\n",
       " 0.38075246279768876,\n",
       " 0.31151080866993197,\n",
       " 0.2616838757065655,\n",
       " 0.25878353110159025,\n",
       " 0.2768053116151158,\n",
       " 0.29314986773346985,\n",
       " 0.3187437974386453,\n",
       " 0.3151553888451056,\n",
       " 0.3124053415164998,\n",
       " 0.3056254709359827,\n",
       " 0.29229752666463854,\n",
       " 0.27613456220238725,\n",
       " 0.27264611974332364,\n",
       " 0.25881365442478366,\n",
       " 0.2705134376821193,\n",
       " 0.24239715838035802,\n",
       " 0.24474844879838625,\n",
       " 0.2459462816708728,\n",
       " 0.24765740208219658,\n",
       " 0.24203366070261093,\n",
       " 0.24807522591096998,\n",
       " 0.2589529760088881,\n",
       " 0.2666872739680853,\n",
       " 0.26061328976210113,\n",
       " 0.26305957785028,\n",
       " 0.2623644812840409,\n",
       " 0.2780228889171459,\n",
       " 0.27426272130361024,\n",
       " 0.27928034001420815,\n",
       " 0.2721286551087995,\n",
       " 0.2719433187375034,\n",
       " 0.26886858789795787,\n",
       " 0.282641632815186,\n",
       " 0.2778496180805699,\n",
       " 0.2779765924928906,\n",
       " 0.2851130311291543,\n",
       " 0.2776795463570602,\n",
       " 0.27808724874199436,\n",
       " 0.27555050277552434,\n",
       " 0.27341275872622706,\n",
       " 0.26528793655154953,\n",
       " 0.2694597298630766,\n",
       " 0.2657204352533751,\n",
       " 0.26738671488277493,\n",
       " 0.2679265524518133,\n",
       " 0.27095566349236694,\n",
       " 0.2690551350113891,\n",
       " 0.2649245494637318,\n",
       " 0.26626041787134636,\n",
       " 0.2645373488757312,\n",
       " 0.2656983661103153,\n",
       " 0.2592585480027881,\n",
       " 0.25673934010484656,\n",
       " 0.2622103369370049,\n",
       " 0.2664863045277889,\n",
       " 0.2681884824566543,\n",
       " 0.26940700532182693,\n",
       " 0.27302540812040427,\n",
       " 0.27342321767171124,\n",
       " 0.2741302236994996,\n",
       " 0.26836688435315503,\n",
       " 0.26752051769322593,\n",
       " 0.264462811574166,\n",
       " 0.25987114407197454,\n",
       " 0.25473979135839664,\n",
       " 0.25115751370701933,\n",
       " 0.2489193312482693,\n",
       " 0.24220897434380442,\n",
       " 0.2454345047820583,\n",
       " 0.24758873006414842,\n",
       " 0.2511934792396419,\n",
       " 0.2574057770226507,\n",
       " 0.25841811493991945,\n",
       " 0.25477471994812506,\n",
       " 0.2535683695498643,\n",
       " 0.25523826226921037,\n",
       " 0.25538614479372335,\n",
       " 0.259539788931903,\n",
       " 0.25570500313400885,\n",
       " 0.2547329746733891,\n",
       " 0.2561507684869686,\n",
       " 0.26074159268473923,\n",
       " 0.262680143893341,\n",
       " 0.2587720760757322,\n",
       " 0.25841711597632394,\n",
       " 0.25512025797553195,\n",
       " 0.25513981817368475,\n",
       " 0.25603933782382726,\n",
       " 0.2522156467889085,\n",
       " 0.25603359176733004,\n",
       " 0.2610821076854472,\n",
       " 0.2593267249614262,\n",
       " 0.2595659254708103,\n",
       " 0.2609130869118539,\n",
       " 0.257939031845189,\n",
       " 0.2590884769350522,\n",
       " 0.2577989372953487,\n",
       " 0.25701034850446886,\n",
       " 0.2528427405068411,\n",
       " 0.25277088396991143,\n",
       " 0.25325918551749044,\n",
       " 0.25292875475281257,\n",
       " 0.25429248943889093,\n",
       " 0.2531593814492704,\n",
       " 0.25349137171105335,\n",
       " 0.2531505504853014,\n",
       " 0.24991168491989754,\n",
       " 0.24768675301788218,\n",
       " 0.24825108491580106,\n",
       " 0.251628997139717,\n",
       " 0.25242047656730693,\n",
       " 0.2502461033145209,\n",
       " 0.24819890119020477,\n",
       " 0.2480701251859247,\n",
       " 0.24886863779652005,\n",
       " 0.24809369701384706,\n",
       " 0.24925278658132613,\n",
       " 0.25044111231667704,\n",
       " 0.25210939846400426,\n",
       " 0.25624424164730847,\n",
       " 0.25550742263920656,\n",
       " 0.2550360044581282,\n",
       " 0.2550914682275334,\n",
       " 0.25671770807077354,\n",
       " 0.25666379823715263,\n",
       " 0.25419339407675867,\n",
       " 0.25565795262820096,\n",
       " 0.25576659528940315,\n",
       " 0.2564957442933566,\n",
       " 0.25897794918648315,\n",
       " 0.25819751043424444,\n",
       " 0.25928730544823675,\n",
       " 0.25864665797928593,\n",
       " 0.2615899747416161,\n",
       " 0.25818918932987445,\n",
       " 0.26016722828831323,\n",
       " 0.25716118035998664,\n",
       " 0.2589387927056974,\n",
       " 0.2605128446166374,\n",
       " 0.2618761914593183,\n",
       " 0.26239222746004504,\n",
       " 0.2622488728112174,\n",
       " 0.26170401530714765,\n",
       " 0.26414690862608453,\n",
       " 0.2627188456326983,\n",
       " 0.26330533993733596,\n",
       " 0.26203113707335574,\n",
       " 0.2600824464906778,\n",
       " 0.25755053042775733,\n",
       " 0.2579211342081262,\n",
       " 0.2565444913604889,\n",
       " 0.2555309076877274,\n",
       " 0.2566714409789793,\n",
       " 0.2562256577984731,\n",
       " 0.2555058175868711,\n",
       " 0.25421184747630593,\n",
       " 0.2531123527709011,\n",
       " 0.2539431623962476,\n",
       " 0.2542374041429215,\n",
       " 0.25437433202512155,\n",
       " 0.2552761267623119,\n",
       " 0.2567313626647062,\n",
       " 0.2571710531866922,\n",
       " 0.25752004945189705,\n",
       " 0.2560381949150984,\n",
       " 0.2544658258769987,\n",
       " 0.25187135801412863,\n",
       " 0.2510655836146643,\n",
       " 0.2506889407928441,\n",
       " 0.25004654371548823,\n",
       " 0.24984147002377202,\n",
       " 0.2503291298316746,\n",
       " 0.25219681941743405,\n",
       " 0.2519518171796305,\n",
       " 0.2502258543208905,\n",
       " 0.25061878073659094,\n",
       " 0.2502865428713766,\n",
       " 0.24981033364662045,\n",
       " 0.24992595945658583,\n",
       " 0.25006644848048487,\n",
       " 0.25038766938684265,\n",
       " 0.25069082890719224,\n",
       " 0.24964524613852948,\n",
       " 0.24786210562633681,\n",
       " 0.24702443734047605,\n",
       " 0.248834438459811,\n",
       " 0.24658131459670407,\n",
       " 0.24783777609846774,\n",
       " 0.24544820788577468,\n",
       " 0.24641025750472137,\n",
       " 0.24641636273111314,\n",
       " 0.2473308357477861,\n",
       " 0.24769599885656274,\n",
       " 0.2480278666553062,\n",
       " 0.24818772094316346,\n",
       " 0.2463317798264439,\n",
       " 0.24740681906378412,\n",
       " 0.24671791622777484,\n",
       " 0.24749653820779585,\n",
       " 0.24799105489157836,\n",
       " 0.24694858282287077,\n",
       " 0.24698306854282168,\n",
       " 0.24356386293085683,\n",
       " 0.2459093327213837,\n",
       " 0.24533017619926917,\n",
       " 0.24657101152301342,\n",
       " 0.24529267805324897,\n",
       " 0.2452165229552784,\n",
       " 0.24530618357024303,\n",
       " 0.24515491409677412,\n",
       " 0.24521389393648355,\n",
       " 0.24571955444119756,\n",
       " 0.24668163873257296,\n",
       " 0.24586604371657922,\n",
       " 0.2449493266136809,\n",
       " 0.2463526840531143,\n",
       " 0.24502311365270224,\n",
       " 0.24485799374071768,\n",
       " 0.24431523453197232,\n",
       " 0.2444376289279488,\n",
       " 0.2437645238056198,\n",
       " 0.24409361836589114,\n",
       " 0.24253230871829817,\n",
       " 0.24226457200441345,\n",
       " 0.24074899233757863,\n",
       " 0.2414561426969675,\n",
       " 0.24005855150334932,\n",
       " 0.2386074364930254,\n",
       " 0.2385709353824027,\n",
       " 0.2386099478507075,\n",
       " 0.23772889284807933,\n",
       " 0.23690595532141975,\n",
       " 0.2347914024741146,\n",
       " 0.2349572571956097,\n",
       " 0.23579938137203008,\n",
       " 0.23588477410397227,\n",
       " 0.23420056499293243,\n",
       " 0.23424529834334537,\n",
       " 0.2320847712787144,\n",
       " 0.23081870580711206,\n",
       " 0.23119395554798175,\n",
       " 0.23003746679248938,\n",
       " 0.22943784844941187,\n",
       " 0.2284631649533087,\n",
       " 0.23034406718515052,\n",
       " 0.2302625792234418,\n",
       " 0.23109445056311537,\n",
       " 0.2322444784590536,\n",
       " 0.23175355238171327,\n",
       " 0.23317212409936153,\n",
       " 0.23299151909760663,\n",
       " 0.2340234413865153,\n",
       " 0.23354056610393392,\n",
       " 0.23231636258059943,\n",
       " 0.229605785262759,\n",
       " 0.228807895324716,\n",
       " 0.22873561431150516,\n",
       " 0.2276005471615013,\n",
       " 0.22672389000439705,\n",
       " 0.22733650757593918,\n",
       " 0.2253744218990309,\n",
       " 0.2240435282904158,\n",
       " 0.2232761457025302,\n",
       " 0.2238028585829725,\n",
       " 0.22431603432124195,\n",
       " 0.22218915254054805,\n",
       " 0.2223852976062131,\n",
       " 0.22256683516222533,\n",
       " 0.22096511337813815,\n",
       " 0.22003247321266475,\n",
       " 0.21909492457634067,\n",
       " 0.21835046928648646,\n",
       " 0.21704116836410187,\n",
       " 0.21617621143756036,\n",
       " 0.21780494233514713,\n",
       " 0.21807759929064177,\n",
       " 0.21809284834960718,\n",
       " 0.21661853369298517,\n",
       " 0.2173262166472619,\n",
       " 0.2154431186197287,\n",
       " 0.21456822800725248,\n",
       " 0.21405200913850378,\n",
       " 0.21268424335383934,\n",
       " 0.21065347853675181,\n",
       " 0.21103114862012598,\n",
       " 0.21180595823901607,\n",
       " 0.21084444404168326,\n",
       " 0.21225304296065375,\n",
       " 0.21224771424176309,\n",
       " 0.2112199105307661,\n",
       " 0.20997875230293073,\n",
       " 0.21014063622879944,\n",
       " 0.2098056037698024,\n",
       " 0.20935862902789942,\n",
       " 0.2102112700471767,\n",
       " 0.20812410233018955,\n",
       " 0.20707237142362267,\n",
       " 0.20655808434262798,\n",
       " 0.2050934327193459,\n",
       " 0.20532893946733885,\n",
       " 0.20438132785398508,\n",
       " 0.2051827154572771,\n",
       " 0.20444973071680358,\n",
       " 0.20404602340803094,\n",
       " 0.20399780418324398,\n",
       " 0.2032382535609782,\n",
       " 0.2026217084341948,\n",
       " 0.20071546857525704,\n",
       " 0.19915312464993054,\n",
       " 0.1985698494826403,\n",
       " 0.19741396510011525,\n",
       " 0.19740760592833914,\n",
       " 0.1965982756838006,\n",
       " 0.196626967715569,\n",
       " 0.19576419672575016,\n",
       " 0.19497774976931181,\n",
       " 0.19332759220864773,\n",
       " 0.19457155009752153,\n",
       " 0.19434160611668977,\n",
       " 0.19522503282231946,\n",
       " 0.1935925739196652,\n",
       " 0.1943591893398218,\n",
       " 0.19471855556438677,\n",
       " 0.19435378205009046,\n",
       " 0.19348599393226448,\n",
       " 0.1930788378827946,\n",
       " 0.19228808171500214,\n",
       " 0.19109263209987978,\n",
       " 0.19150811939989176,\n",
       " 0.19165307534581877,\n",
       " 0.19045462285933545,\n",
       " 0.19143825944304596,\n",
       " 0.19160234552104183,\n",
       " 0.19082055826303512,\n",
       " 0.19053933452543653,\n",
       " 0.18965562406248176,\n",
       " 0.1877763698255319,\n",
       " 0.1874796260130433,\n",
       " 0.1880719389449283,\n",
       " 0.18722902312737502,\n",
       " 0.18580370264330937,\n",
       " 0.18712052937911797,\n",
       " 0.1881186874548551,\n",
       " 0.187116403750558,\n",
       " 0.18743321084506723,\n",
       " 0.18516839440053934,\n",
       " 0.1852224113141566,\n",
       " 0.18473698837766653,\n",
       " 0.1827324242956679,\n",
       " 0.18201323755467352,\n",
       " 0.1818908377903205,\n",
       " 0.18061313019926495,\n",
       " 0.18002444428401618,\n",
       " 0.18019622681336883,\n",
       " 0.17982309253394632,\n",
       " 0.17982750179807364,\n",
       " 0.17937086871128957,\n",
       " 0.18065993254756035,\n",
       " 0.18002275282565774,\n",
       " 0.17867990880674178,\n",
       " 0.17772948595510413,\n",
       " 0.17784876802871127,\n",
       " 0.1772625950771618,\n",
       " 0.17701449703818437,\n",
       " 0.17756759423206303,\n",
       " 0.1779564372893144,\n",
       " 0.17795690774274212,\n",
       " 0.17734792739415894,\n",
       " 0.17654574289915925,\n",
       " 0.17693029447304073,\n",
       " 0.17721183773362215,\n",
       " 0.17846077415551873,\n",
       " 0.1772953862164469,\n",
       " 0.17727312343690463,\n",
       " 0.1766356516116616,\n",
       " 0.17665139250739584,\n",
       " 0.17614137686878661,\n",
       " 0.17713923893037964,\n",
       " 0.17700755201336463,\n",
       " 0.17721191096084804,\n",
       " 0.17648866969787985,\n",
       " 0.17602364403714882,\n",
       " 0.17693172137419236,\n",
       " 0.17715651156524936,\n",
       " 0.17712394477660293,\n",
       " 0.17723988492635864,\n",
       " 0.17693407925226434,\n",
       " 0.1774155350542368,\n",
       " 0.17634616587931806,\n",
       " 0.17523334484872807,\n",
       " 0.17459667543863897,\n",
       " 0.17370506601397048,\n",
       " 0.17324545335287636,\n",
       " 0.1731056424787634,\n",
       " 0.1722002824021724,\n",
       " 0.17164819120304994,\n",
       " 0.17034198946073126,\n",
       " 0.1695838500610835,\n",
       " 0.1701883962519044,\n",
       " 0.16969573238783917,\n",
       " 0.17045536086808588,\n",
       " 0.16956269123311493,\n",
       " 0.1690035947096351,\n",
       " 0.1691263932839998,\n",
       " 0.1699759717501887,\n",
       " 0.1707407523130659,\n",
       " 0.17005352315965286,\n",
       " 0.16979240657351594,\n",
       " 0.16957573359807465,\n",
       " 0.16861218040975187,\n",
       " 0.1681983527175642,\n",
       " 0.16830766260267144,\n",
       " 0.16743525862864814,\n",
       " 0.16577005602794156,\n",
       " 0.16603824019186864,\n",
       " 0.16649287073730637,\n",
       " 0.16647692695371744,\n",
       " 0.167337081961043,\n",
       " 0.16689547673517682,\n",
       " 0.16672587845980927,\n",
       " 0.1675971374272963,\n",
       " 0.16795876672475152,\n",
       " 0.16718268716303183,\n",
       " 0.1669929030741169,\n",
       " 0.16644986732913403,\n",
       " 0.16612727585646742,\n",
       " 0.16577769773964268,\n",
       " 0.16477632911350423,\n",
       " 0.16508350430460875,\n",
       " 0.1650439895173321,\n",
       " 0.16478407080317253,\n",
       " 0.1636002303240928,\n",
       " 0.1635250186771246,\n",
       " 0.16354605629134727,\n",
       " 0.16429624773747264,\n",
       " 0.16451052959573353,\n",
       " 0.163585374013788,\n",
       " 0.1640082094361766,\n",
       " 0.164029522138026,\n",
       " 0.1626488635111594,\n",
       " 0.16183350192100984,\n",
       " 0.16130908463755822,\n",
       " 0.16123858442875702,\n",
       " 0.16121528097919227,\n",
       " 0.16118880197906799,\n",
       " 0.1611051105771277,\n",
       " 0.16176395133733634,\n",
       " 0.16133510782660004,\n",
       " 0.16065786245655284,\n",
       " 0.1605602050752281,\n",
       " 0.16136642836558351,\n",
       " 0.16080046928281824,\n",
       " 0.16034146687471873,\n",
       " 0.15977477552714062,\n",
       " 0.1593970398577184,\n",
       " 0.15962984239803377,\n",
       " 0.1587458205375597,\n",
       " 0.1594528991356576,\n",
       " 0.15911337656600594,\n",
       " 0.15878809536306596,\n",
       " 0.15883592027312637,\n",
       " 0.15890480356133577,\n",
       " 0.15825680415778567,\n",
       " 0.15801354750644392,\n",
       " 0.15779634090821348,\n",
       " 0.15801657108220696,\n",
       " 0.15797125012819208,\n",
       " 0.15799098374553902,\n",
       " 0.15787052247610556,\n",
       " 0.1575239842001192,\n",
       " 0.15688029762972522,\n",
       " 0.15742485706670548,\n",
       " 0.15820482671695693,\n",
       " 0.15876799075155823,\n",
       " 0.1583066791843111,\n",
       " 0.15809998242906348,\n",
       " 0.15889102401780886,\n",
       " 0.15935993978851015,\n",
       " 0.15982028739794196,\n",
       " 0.15977797718609282,\n",
       " 0.16058905102197726,\n",
       " 0.16130084661652516,\n",
       " 0.16107030484538185,\n",
       " 0.1607804543591342,\n",
       " 0.1602693555405105,\n",
       " 0.1605585993312822,\n",
       " 0.1613919671886144,\n",
       " 0.1611533881474191,\n",
       " 0.16156457577614738,\n",
       " 0.1613506157881431,\n",
       " 0.1614232802146434,\n",
       " 0.16203135912310704,\n",
       " 0.16235017300240356,\n",
       " 0.1636733603785924,\n",
       " 0.16380517973192074,\n",
       " 0.1644404667550993,\n",
       " 0.16575570265348555,\n",
       " 0.16583288152846123,\n",
       " 0.1660632185398619,\n",
       " 0.16706323417216218,\n",
       " 0.16793494467011483,\n",
       " 0.1684740118305326,\n",
       " 0.16934729027398027,\n",
       " 0.1698725037188042,\n",
       " 0.1711197213573032,\n",
       " 0.1713834262713641,\n",
       " 0.17203598181722796,\n",
       " 0.17211819890186697,\n",
       " 0.17092249802854695,\n",
       " 0.17083315731677184,\n",
       " 0.17012516837889483,\n",
       " 0.16955390361973371,\n",
       " 0.16956945180968555,\n",
       " 0.16910110943133988,\n",
       " 0.16768049442812735,\n",
       " 0.16736703320917973,\n",
       " 0.1661695890912585,\n",
       " 0.16599716982106244,\n",
       " 0.16581762212823886,\n",
       " 0.16621097895249257,\n",
       " 0.16600231629595255,\n",
       " 0.16620614003822382,\n",
       " 0.16622204040009558,\n",
       " 0.16666147417874766,\n",
       " 0.16732092189889855,\n",
       " 0.16713627842769763,\n",
       " 0.16781587437707104,\n",
       " 0.16768947234925752,\n",
       " 0.16714110258788825,\n",
       " 0.16733522395001968,\n",
       " 0.1673507428414988,\n",
       " 0.1676126839236009,\n",
       " 0.1672745158260272,\n",
       " 0.1669514435951537,\n",
       " 0.167718545684298,\n",
       " 0.16800335807177322,\n",
       " 0.16825837198428276,\n",
       " 0.1677761371734537,\n",
       " 0.16756395807198088,\n",
       " 0.1675910763719985,\n",
       " 0.1676945653543009,\n",
       " 0.16711862220983764,\n",
       " 0.16747951984507997,\n",
       " 0.16738214505113677,\n",
       " 0.16741745584868828,\n",
       " 0.16648493899431474,\n",
       " 0.16643619838651041,\n",
       " 0.16597596307714282,\n",
       " 0.16535991563938518,\n",
       " 0.16532620196204073,\n",
       " 0.16522462050544756,\n",
       " 0.16557097418055156,\n",
       " 0.165431136436429,\n",
       " 0.16500478521326614,\n",
       " 0.16445546726728777,\n",
       " 0.16396788044029417,\n",
       " 0.16303618661391414,\n",
       " 0.16240466692550934,\n",
       " 0.16274895922097754,\n",
       " 0.1618986739364709,\n",
       " 0.1618076281112685,\n",
       " 0.16186244334269187,\n",
       " 0.1614898953159966,\n",
       " 0.16069649528304708,\n",
       " 0.1603198478427267,\n",
       " 0.159925484164292,\n",
       " 0.1596453497991582,\n",
       " 0.15940065107531526,\n",
       " 0.15879747636350688,\n",
       " 0.15744843927056928,\n",
       " 0.15653062136646992,\n",
       " 0.15609247184615635,\n",
       " 0.15662582159448007,\n",
       " 0.1561349205430289,\n",
       " 0.15648458912410917,\n",
       " 0.15620518272984946,\n",
       " 0.15629616011660732,\n",
       " 0.1558283452850703,\n",
       " 0.15578753877624243,\n",
       " 0.155569133573948,\n",
       " 0.1555386839314771,\n",
       " 0.15473531526785728,\n",
       " 0.15351556770461247,\n",
       " 0.1524342803947188,\n",
       " 0.1521173456922021,\n",
       " 0.15207524010145043,\n",
       " 0.1518886721970587,\n",
       " 0.15090811480473823,\n",
       " 0.14990340486103135,\n",
       " 0.14920167385510996,\n",
       " 0.14951154111137072,\n",
       " 0.14879080663366281,\n",
       " 0.14854592755687449,\n",
       " 0.14838946728817706,\n",
       " 0.1486358929363208,\n",
       " 0.14835820634360983,\n",
       " 0.14785880213394065,\n",
       " 0.1479363716727045,\n",
       " 0.1477517933815477,\n",
       " 0.14772651283736715,\n",
       " 0.14836939442569688,\n",
       " 0.148583461609435,\n",
       " 0.14823284007609283,\n",
       " 0.14929313175943582,\n",
       " 0.14902493870074904,\n",
       " 0.14859384880838095,\n",
       " 0.1488668598942403,\n",
       " 0.14970347833718442,\n",
       " 0.1493991260429165,\n",
       " 0.14936530725124156,\n",
       " 0.14939664529718488,\n",
       " 0.1492560928273139,\n",
       " 0.14861121011154185,\n",
       " 0.14837186460636617,\n",
       " 0.14832397526903535,\n",
       " 0.1486560008666681,\n",
       " 0.14907164252739144,\n",
       " 0.1487308553058917,\n",
       " 0.14835060232006628,\n",
       " 0.1483123211855652,\n",
       " 0.14734899359106404,\n",
       " 0.14696283238211835,\n",
       " 0.14707833091375408,\n",
       " 0.14648754995899502,\n",
       " 0.1466691606579851,\n",
       " 0.1465101625845786,\n",
       " 0.14629142049646138,\n",
       " 0.14650304202350153,\n",
       " 0.1461863605092972,\n",
       " 0.1463150386648776,\n",
       " 0.14645791634071692,\n",
       " 0.14594053870988555,\n",
       " 0.14574765629191572,\n",
       " 0.1446587722155108,\n",
       " 0.1447084754939925,\n",
       " 0.14390016596667046,\n",
       " 0.1445915364921294,\n",
       " 0.14400936470448844,\n",
       " 0.1437496260243311,\n",
       " 0.14333166734169317,\n",
       " 0.14275298703193567,\n",
       " 0.141848740570745,\n",
       " 0.14138632215307498,\n",
       " 0.14073760757513115,\n",
       " 0.1405017006736872,\n",
       " 0.14035444091461619,\n",
       " 0.14076564632603308,\n",
       " 0.14006655459303546,\n",
       " 0.14078291357149542,\n",
       " 0.14061791098994153,\n",
       " 0.14010647670129645,\n",
       " 0.1393053228487024,\n",
       " 0.13988583744812935,\n",
       " 0.1394421806032517,\n",
       " 0.1394774252499628,\n",
       " 0.13938713000786884,\n",
       " 0.13962377780621982,\n",
       " 0.13919375646997206,\n",
       " 0.1384761580133929,\n",
       " 0.13869003845586747,\n",
       " 0.13901720991053543,\n",
       " 0.1379026498323085,\n",
       " 0.13771423993112125,\n",
       " 0.1370517773409309,\n",
       " 0.13717129223031146,\n",
       " 0.13632752314219176,\n",
       " 0.13620121521374226,\n",
       " 0.1362023638709743,\n",
       " 0.13555788019648596,\n",
       " 0.1351899638672381,\n",
       " 0.13584207885378413,\n",
       " 0.1348508185849086,\n",
       " 0.1343611841515931,\n",
       " 0.1333643650393096,\n",
       " 0.1327812447956986,\n",
       " 0.1325273087305317,\n",
       " 0.13204876052951658,\n",
       " 0.13155499715729746,\n",
       " 0.1305291346030252,\n",
       " 0.13020041321328307,\n",
       " 0.1298222575515663,\n",
       " 0.12992626038531865,\n",
       " 0.13062356717645662,\n",
       " 0.13007548756863754,\n",
       " 0.12992570512858892,\n",
       " 0.1298091614837165,\n",
       " 0.129284680105418,\n",
       " 0.12826184798358697,\n",
       " 0.12724954111738052,\n",
       " 0.12677996004853576,\n",
       " 0.12697996002536768,\n",
       " 0.1267047282980047,\n",
       " 0.12678791123885094,\n",
       " 0.12650856613754047,\n",
       " 0.12583833400305575,\n",
       " 0.12575762013671957,\n",
       " 0.12588601821596626,\n",
       " 0.1259617734499988,\n",
       " 0.12628160859724818,\n",
       " 0.12664032610964132,\n",
       " 0.12618033351781943,\n",
       " 0.1260583720334701,\n",
       " 0.12508655221612794,\n",
       " 0.12437375008864207,\n",
       " 0.12373361435162533,\n",
       " 0.12325047107641286,\n",
       " 0.12345284312541303,\n",
       " 0.12337643623912531,\n",
       " 0.12319750356580961,\n",
       " 0.1231567770842909,\n",
       " 0.12347866474829984,\n",
       " 0.12357217640401072,\n",
       " 0.12433390130522173,\n",
       " 0.12402187401786832,\n",
       " 0.12365144546811076,\n",
       " 0.12345525989760174,\n",
       " 0.12356067746188358,\n",
       " 0.12366627456336175,\n",
       " 0.12370193671619929,\n",
       " 0.12368307325920289,\n",
       " 0.12348076532584083,\n",
       " 0.12330102361969625,\n",
       " 0.12345583699798775,\n",
       " 0.12387894397761455,\n",
       " 0.12438070285569894,\n",
       " 0.12427660532471259,\n",
       " 0.12475969414304384,\n",
       " 0.12522195041036727,\n",
       " 0.12495090385660525,\n",
       " 0.12449418005278985,\n",
       " 0.12477502887965701,\n",
       " 0.1245848581704023,\n",
       " 0.12479649067851022,\n",
       " 0.12553696361337097,\n",
       " 0.12594556613214505,\n",
       " 0.12620851204570976,\n",
       " 0.1267144383727225,\n",
       " 0.12703933816871765,\n",
       " 0.12782135367563852,\n",
       " 0.12781073601361234,\n",
       " 0.1283888895886493,\n",
       " 0.12836259770615066,\n",
       " 0.12965183049945417,\n",
       " 0.1304481287428816,\n",
       " 0.1307389461555175,\n",
       " 0.13049171803219897,\n",
       " 0.1308327137952813,\n",
       " 0.1312947454238992,\n",
       " 0.13118622069532374,\n",
       " 0.1309192592045811,\n",
       " 0.13078671527306351,\n",
       " 0.13017989546953346,\n",
       " 0.13052181561637327,\n",
       " 0.1310397594169437,\n",
       " 0.1309801753607284,\n",
       " 0.1313511964678344,\n",
       " 0.13143869980374778,\n",
       " 0.1313412645376989,\n",
       " 0.13190850588554076,\n",
       " 0.13222439424694568,\n",
       " 0.13195251177690168,\n",
       " 0.13165266389509553,\n",
       " 0.13161710272981572,\n",
       " 0.13153226877230018,\n",
       " 0.13119571332178226,\n",
       " 0.1311662951293513,\n",
       " 0.13167609918330836,\n",
       " 0.13158086288315582,\n",
       " 0.1316372762790653,\n",
       " 0.13162057640608696,\n",
       " 0.13141870885887094,\n",
       " 0.1313872319780215,\n",
       " 0.1307688656872982,\n",
       " 0.13071901427893112,\n",
       " 0.13075486714686482,\n",
       " 0.13013948760789848,\n",
       " 0.12975024509482985,\n",
       " 0.12985181281414954,\n",
       " 0.12976015813909772,\n",
       " 0.129206246375412,\n",
       " 0.12868896628402088,\n",
       " 0.1282089358731964,\n",
       " 0.128503243762629,\n",
       " 0.12882070986551689,\n",
       " 0.12823602670912804,\n",
       " 0.12778021719683447,\n",
       " 0.1277158058071659,\n",
       " 0.12733428535442312,\n",
       " 0.12701688701847455,\n",
       " 0.12676094432174775,\n",
       " 0.1268860394143089,\n",
       " 0.12678908896106764,\n",
       " 0.12653306964981542,\n",
       " 0.12732444869423845,\n",
       " 0.12790180685549332,\n",
       " 0.1283494508906621,\n",
       " 0.12833047704880357,\n",
       " 0.12807461615241092,\n",
       " 0.12817968424607554,\n",
       " 0.1281433820076124,\n",
       " 0.12874223959085165,\n",
       " 0.12828513299066596,\n",
       " 0.12802176875813948,\n",
       " 0.1278101024139328,\n",
       " 0.12742039021853013,\n",
       " 0.12718453014981052,\n",
       " 0.12748806739773583,\n",
       " 0.12749296443888367,\n",
       " 0.1273622784769985,\n",
       " 0.12724058694709464,\n",
       " 0.12723599977193104,\n",
       " 0.12668082943958203,\n",
       " 0.12639681870807162,\n",
       " 0.1259614235787896,\n",
       " 0.12517358048085558,\n",
       " 0.125198571805432,\n",
       " 0.1257414681564491,\n",
       " 0.12526581595557423,\n",
       " 0.12596562959074944,\n",
       " 0.12564962491409706,\n",
       " 0.1255738086377907,\n",
       " 0.1252018752278783,\n",
       " 0.12505479336451658,\n",
       " 0.12518511192203405,\n",
       " 0.12523460792916163,\n",
       " 0.12602456081821664,\n",
       " 0.1254584414057966,\n",
       " 0.12492932514303702,\n",
       " 0.12516307840130111,\n",
       " 0.12499462504935349,\n",
       " 0.12512700079454456,\n",
       " 0.1248919011952743,\n",
       " 0.12473480420183074,\n",
       " 0.12489748112020517,\n",
       " 0.12490962304536597,\n",
       " 0.12524872633596568,\n",
       " 0.12550555670840968,\n",
       " 0.12533907767402794,\n",
       " 0.12518041337531471,\n",
       " 0.12530955986591838,\n",
       " 0.1247636096215665,\n",
       " 0.12470856898243039,\n",
       " 0.12441967636957935,\n",
       " 0.12481065382947377,\n",
       " 0.12473039566454833,\n",
       " 0.12418345024273103,\n",
       " 0.12414240316747815,\n",
       " 0.12383209159144588,\n",
       " 0.12334744809743471,\n",
       " 0.12273555035326562,\n",
       " 0.12257531633128466,\n",
       " 0.12243026214188407,\n",
       " 0.12234092884553209,\n",
       " 0.122420926822694,\n",
       " 0.12213581863516004,\n",
       " 0.12208123062016073,\n",
       " 0.12193003391562318,\n",
       " 0.12152794949898553,\n",
       " 0.12079883521133646,\n",
       " 0.12033213699655836,\n",
       " 0.120403707266482,\n",
       " 0.12000630199650948,\n",
       " 0.12003830015464009,\n",
       " 0.11994765579794625,\n",
       " 0.11950410531644844,\n",
       " 0.11969672845045622,\n",
       " 0.11974731828209075,\n",
       " 0.11985253356200992,\n",
       " 0.11934562000301345,\n",
       " 0.11943323798610087,\n",
       " 0.11938432017984808,\n",
       " 0.11910176333151469,\n",
       " 0.11918061195548854,\n",
       " 0.11872851766402975,\n",
       " 0.11887132679052803,\n",
       " 0.11829808109834396,\n",
       " 0.11741000644011368,\n",
       " 0.11674911440343785,\n",
       " 0.1164488076554501,\n",
       " 0.11608005688785351,\n",
       " 0.11580802669003998,\n",
       " 0.11592264984134844,\n",
       " 0.11528843817054352,\n",
       " 0.11476144593749252,\n",
       " 0.1149038866570527,\n",
       " 0.11422939336577087,\n",
       " 0.11401213734877949,\n",
       " 0.11436750364598333,\n",
       " 0.11414070733159895,\n",
       " 0.11472099553080951,\n",
       " 0.11528445463508401,\n",
       " 0.11543697147756538,\n",
       " 0.11486294803042862,\n",
       " 0.11482500880883573,\n",
       " 0.11493115247218595,\n",
       " 0.11481156836846251,\n",
       " 0.11477829263459116,\n",
       " 0.11517932395238026,\n",
       " 0.11515211599824327,\n",
       " 0.1152813123858321,\n",
       " 0.11545275451878234,\n",
       " 0.11541129764632825,\n",
       " 0.1154824558243875,\n",
       " 0.11558076102909,\n",
       " 0.11589231659479017,\n",
       " 0.1151258150809164,\n",
       " 0.11505610848891477,\n",
       " 0.11503818261393792,\n",
       " 0.1145949449208907,\n",
       " 0.11517839047306269,\n",
       " 0.11513143543287968,\n",
       " 0.1149676977931425,\n",
       " 0.11484728138299714,\n",
       " 0.11471043640277405,\n",
       " 0.11525730057824672,\n",
       " 0.11506905163866805,\n",
       " 0.11456703730277647,\n",
       " 0.11476646185509436,\n",
       " 0.11416854697995524,\n",
       " 0.11383941794622018,\n",
       " 0.11402307356933197,\n",
       " 0.11419943242999561,\n",
       " 0.11373493190986822,\n",
       " 0.1134669698151127,\n",
       " 0.11300209235916292,\n",
       " 0.11317062241057627,\n",
       " 0.11248287548112712,\n",
       " 0.11292693299774902,\n",
       " 0.11298124741870742,\n",
       " 0.11296547526501528,\n",
       " 0.11360473316983546,\n",
       " 0.11360411159628538,\n",
       " 0.11330353490215762,\n",
       " 0.11339070674877821,\n",
       " 0.11351995673924868,\n",
       " 0.11345149832460777,\n",
       " 0.11351098364740128,\n",
       " 0.1135697965016999,\n",
       " 0.11393608106588794,\n",
       " 0.11364636657179558,\n",
       " 0.1140212286478898,\n",
       " 0.11450503950165221,\n",
       " 0.11440325504734701,\n",
       " 0.11421413312454066,\n",
       " 0.11427982863534804,\n",
       " 0.11448195478915352,\n",
       " 0.11455381397202934,\n",
       " 0.11455856320985107,\n",
       " 0.11474981028673541,\n",
       " 0.11492600706646006,\n",
       " 0.11522441692436444,\n",
       " 0.11501129207275544,\n",
       " 0.11515233901795655,\n",
       " 0.1154916147679194,\n",
       " 0.11546279390276078,\n",
       " 0.11528669764942666,\n",
       " 0.11523741110416208,\n",
       " 0.11483616735011937,\n",
       " 0.11528383457981389,\n",
       " 0.11554587111659612,\n",
       " 0.11564345309510138,\n",
       " 0.11560667946130786,\n",
       " 0.11550604864440506,\n",
       " 0.11563770342195982,\n",
       " 0.11584143805592419,\n",
       " 0.11556759707861046,\n",
       " 0.11550104214318781,\n",
       " 0.1155011228085866,\n",
       " 0.11534904180404229,\n",
       " 0.1152350127384182,\n",
       " 0.11526428304761978,\n",
       " 0.11500139446371407,\n",
       " 0.11505091087157887,\n",
       " 0.11537652223291373,\n",
       " 0.11525079214637604,\n",
       " 0.11547049776908659,\n",
       " 0.11527817028437148,\n",
       " 0.11544500646665785,\n",
       " 0.11539750222942687,\n",
       " 0.11544088467520074,\n",
       " 0.11574355639830679,\n",
       " 0.11581035750018719,\n",
       " 0.11536765204683722,\n",
       " 0.11522992019291232,\n",
       " 0.1154816960849359,\n",
       " 0.11542640818253737,\n",
       " 0.11558160563298817,\n",
       " 0.11525049049422265,\n",
       " 0.1149511809292344,\n",
       " 0.11509954028319692,\n",
       " 0.11489126495463733,\n",
       " 0.11430118271218524,\n",
       " 0.11378828714010801,\n",
       " 0.11353993144885877]"
      ]
     },
     "execution_count": 56,
     "metadata": {},
     "output_type": "execute_result"
    }
   ],
   "source": [
    "errors"
   ]
  },
  {
   "cell_type": "code",
   "execution_count": 57,
   "id": "3b5bb5e0",
   "metadata": {},
   "outputs": [
    {
     "data": {
      "text/plain": [
       "[<matplotlib.lines.Line2D at 0x190b5ce97f0>]"
      ]
     },
     "execution_count": 57,
     "metadata": {},
     "output_type": "execute_result"
    },
    {
     "data": {
      "image/png": "[encoded data removed]",
      "text/plain": [
       "<Figure size 432x288 with 1 Axes>"
      ]
     },
     "metadata": {
      "needs_background": "light"
     },
     "output_type": "display_data"
    }
   ],
   "source": [
    "import matplotlib.pyplot as plt\n",
    "plt.xlabel('Number of Neighbours')\n",
    "plt.ylabel('Errors')\n",
    "plt.plot(range(1,1000,1), errors)"
   ]
  },
  {
   "cell_type": "code",
   "execution_count": null,
   "id": "377287de",
   "metadata": {},
   "outputs": [],
   "source": [
    "#Investigate from 1 to 500"
   ]
  },
  {
   "cell_type": "code",
   "execution_count": null,
   "id": "08267b3f",
   "metadata": {},
   "outputs": [],
   "source": [
    "errors=[]\n",
    "for i in range(1,500,1):\n",
    "    knn=knn=KNeighborsRegressor(n_neighbors=i)\n",
    "    knn.fit(xtrain, ytrain)\n",
    "    ypred_knn=knn.predict(xtest)\n",
    "    errors.append(np.mean((ypred_knn-ytest)))"
   ]
  },
  {
   "cell_type": "code",
   "execution_count": 63,
   "id": "226586ad",
   "metadata": {},
   "outputs": [
    {
     "data": {
      "text/plain": [
       "[<matplotlib.lines.Line2D at 0x190b6e70b20>]"
      ]
     },
     "execution_count": 63,
     "metadata": {},
     "output_type": "execute_result"
    },
    {
     "data": {
      "image/png": "[encoded data removed]",
      "text/plain": [
       "<Figure size 432x288 with 1 Axes>"
      ]
     },
     "metadata": {
      "needs_background": "light"
     },
     "output_type": "display_data"
    }
   ],
   "source": [
    "import matplotlib.pyplot as plt\n",
    "plt.xlabel('Number of Neighbours')\n",
    "plt.ylabel('Errors')\n",
    "plt.plot(range(1,500,1), errors)"
   ]
  },
  {
   "cell_type": "markdown",
   "id": "49a20f60",
   "metadata": {},
   "source": [
    "# Best kNN_based on GridSearch CV"
   ]
  },
  {
   "cell_type": "code",
   "execution_count": 82,
   "id": "e1aa710a",
   "metadata": {},
   "outputs": [
    {
     "data": {
      "text/plain": [
       "KNeighborsRegressor(n_neighbors=81)"
      ]
     },
     "execution_count": 82,
     "metadata": {},
     "output_type": "execute_result"
    }
   ],
   "source": [
    "knn=KNeighborsRegressor(n_neighbors=81)\n",
    "knn.fit(xtrain, ytrain)"
   ]
  },
  {
   "cell_type": "code",
   "execution_count": 83,
   "id": "f42e2b1f",
   "metadata": {},
   "outputs": [],
   "source": [
    "ypred_knn=knn.predict(xtest)"
   ]
  },
  {
   "cell_type": "code",
   "execution_count": 84,
   "id": "8b11a3a6",
   "metadata": {},
   "outputs": [
    {
     "data": {
      "text/plain": [
       "100.41298264600621"
      ]
     },
     "execution_count": 84,
     "metadata": {},
     "output_type": "execute_result"
    }
   ],
   "source": [
    "mse(ytest, ypred_knn)"
   ]
  },
  {
   "cell_type": "code",
   "execution_count": 85,
   "id": "e983b83f",
   "metadata": {},
   "outputs": [],
   "source": [
    "rmse=(mse(ytest, ypred_knn))**(0.5)"
   ]
  },
  {
   "cell_type": "code",
   "execution_count": 86,
   "id": "9e0f9e1d",
   "metadata": {},
   "outputs": [
    {
     "data": {
      "text/plain": [
       "10.020627856876345"
      ]
     },
     "execution_count": 86,
     "metadata": {},
     "output_type": "execute_result"
    }
   ],
   "source": [
    "rmse"
   ]
  },
  {
   "cell_type": "code",
   "execution_count": 87,
   "id": "fa6f56ae",
   "metadata": {},
   "outputs": [
    {
     "data": {
      "text/plain": [
       "0.9025781182909706"
      ]
     },
     "execution_count": 87,
     "metadata": {},
     "output_type": "execute_result"
    }
   ],
   "source": [
    "knn.score(xtest,ytest)"
   ]
  }
 ],
 "metadata": {
  "kernelspec": {
   "display_name": "Python 3",
   "language": "python",
   "name": "python3"
  },
  "language_info": {
   "codemirror_mode": {
    "name": "ipython",
    "version": 3
   },
   "file_extension": ".py",
   "mimetype": "text/x-python",
   "name": "python",
   "nbconvert_exporter": "python",
   "pygments_lexer": "ipython3",
   "version": "3.8.8"
  }
 },
 "nbformat": 4,
 "nbformat_minor": 5
}
